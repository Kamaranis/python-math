{
  "nbformat": 4,
  "nbformat_minor": 0,
  "metadata": {
    "colab": {
      "name": "Week_02 - code to solve for x.ipynb",
      "provenance": [],
      "include_colab_link": true
    },
    "kernelspec": {
      "name": "python3",
      "display_name": "Python 3"
    },
    "language_info": {
      "name": "python"
    }
  },
  "cells": [
    {
      "cell_type": "markdown",
      "metadata": {
        "id": "view-in-github",
        "colab_type": "text"
      },
      "source": [
        "<a href=\"https://colab.research.google.com/github/Kamaranis/python-math/blob/main/Algebra-with-Python/Week-02-code.ipynb\" target=\"_parent\"><img src=\"https://colab.research.google.com/assets/colab-badge.svg\" alt=\"Open In Colab\"/></a>"
      ]
    },
    {
      "cell_type": "markdown",
      "source": [
        "**Simplest**\n",
        "\n",
        "Solving for x. The variable `eq` is the equation set equal to zero. This will print an array of solutions."
      ],
      "metadata": {
        "id": "9IAp4XVs3eNW"
      }
    },
    {
      "cell_type": "code",
      "execution_count": 1,
      "metadata": {
        "id": "x2tNfcmT3T8F",
        "colab": {
          "base_uri": "https://localhost:8080/"
        },
        "outputId": "666ba772-6a43-4b43-ea9c-81a300ca2393"
      },
      "outputs": [
        {
          "output_type": "stream",
          "name": "stdout",
          "text": [
            "x =  [1.50000000000000]\n"
          ]
        }
      ],
      "source": [
        "import sympy\n",
        "from sympy import symbols\n",
        "from sympy.solvers import solve\n",
        "\n",
        "x = symbols('x')\n",
        "\n",
        "# Put the equation here\n",
        "eq = 2/x - 4/3\n",
        "\n",
        "print(\"x = \", solve(eq,x))\n",
        "\n"
      ]
    },
    {
      "cell_type": "markdown",
      "source": [
        "**Prompting** the equation, then solve"
      ],
      "metadata": {
        "id": "lU8HPSe6NtoT"
      }
    },
    {
      "cell_type": "code",
      "source": [
        "import sympy\n",
        "from sympy import symbols\n",
        "from sympy.solvers import solve\n",
        "\n",
        "x = symbols ('x')\n",
        "eq = input('Enter te equation: 0 = ')\n",
        "\n",
        "print(\"x= \", solve(eq, x))"
      ],
      "metadata": {
        "id": "NWSbM1W34Hdl",
        "colab": {
          "base_uri": "https://localhost:8080/"
        },
        "outputId": "9653ac94-c808-4192-950d-1bd29a55d2b4"
      },
      "execution_count": 1,
      "outputs": [
        {
          "output_type": "stream",
          "name": "stdout",
          "text": [
            "Enter te equation: 0 = x +2\n",
            "x=  [-2]\n"
          ]
        }
      ]
    },
    {
      "cell_type": "markdown",
      "source": [
        "**Doing** anything with the solution"
      ],
      "metadata": {
        "id": "LHDl20zQOo4d"
      }
    },
    {
      "cell_type": "code",
      "source": [
        "import sympy\n",
        "from sympy import symbols\n",
        "from sympy.solvers import solve\n",
        "\n",
        "x = symbols('x')\n",
        "\n",
        "# Putting the equation here:\n",
        "eq = 2*x -4\n",
        "\n",
        "solution = solve(eq,x)\n",
        "print(\"x= \", solution[0])\n",
        "\n"
      ],
      "metadata": {
        "id": "Db4Zuh9gO2Vy",
        "outputId": "c8ad6b99-fdc2-4e97-d1d6-a685c8b6b549",
        "colab": {
          "base_uri": "https://localhost:8080/"
        }
      },
      "execution_count": 2,
      "outputs": [
        {
          "output_type": "stream",
          "name": "stdout",
          "text": [
            "x=  2\n"
          ]
        }
      ]
    },
    {
      "cell_type": "markdown",
      "source": [
        "**Multiple** answers"
      ],
      "metadata": {
        "id": "i3QZuX7JSmTb"
      }
    },
    {
      "cell_type": "code",
      "source": [
        "import sympy\n",
        "from sympy import symbols\n",
        "from sympy.solvers import solve\n",
        "\n",
        "x= symbols('x')\n",
        "\n",
        "eq = input('Enter equation: 0 = ')\n",
        "\n",
        "solution = solve(eq,x)\n",
        "for s in solution:\n",
        "  print(\"x= \", s)"
      ],
      "metadata": {
        "id": "wpx8GMBQSj49",
        "outputId": "e9d1115a-ae93-4bd8-888e-aca190c6b395",
        "colab": {
          "base_uri": "https://localhost:8080/"
        }
      },
      "execution_count": 4,
      "outputs": [
        {
          "output_type": "stream",
          "name": "stdout",
          "text": [
            "Enter equation: 0 = (x-1)*(x+2)*(x-3)\n",
            "x=  -2\n",
            "x=  1\n",
            "x=  3\n"
          ]
        }
      ]
    },
    {
      "cell_type": "markdown",
      "source": [
        "**Solving** in other ways"
      ],
      "metadata": {
        "id": "l0pbFt3do3TF"
      }
    },
    {
      "cell_type": "code",
      "source": [
        "from sympy import *\n",
        "\n",
        "var('x y')\n",
        "\n",
        "# First equation set equal to zerp, ready to solve\n",
        "first = 2*x - y\n",
        "\n",
        "# Sympy syntax for eq = 0, ready to factor\n",
        "eq1 = Eq(first,0)\n",
        "\n",
        "# Sympy solve for x\n",
        "sol = solve(eq1,x)\n",
        "\n",
        "\n",
        "#show factored results\n",
        "print(\"x = \", sol[0])"
      ],
      "metadata": {
        "id": "YIEW5iP5o14g",
        "outputId": "04052db0-f658-4a84-df6f-e294da7b2c6d",
        "colab": {
          "base_uri": "https://localhost:8080/"
        }
      },
      "execution_count": 5,
      "outputs": [
        {
          "output_type": "stream",
          "name": "stdout",
          "text": [
            "x =  y/2\n"
          ]
        }
      ]
    },
    {
      "cell_type": "markdown",
      "source": [
        "Factoring"
      ],
      "metadata": {
        "id": "wR9PoBeVzIZ6"
      }
    },
    {
      "cell_type": "code",
      "source": [
        "import sympy\n",
        "from sympy import *\n",
        "\n",
        "var ('x y')\n",
        "\n",
        "# Equation set equal to zero, ready to solve\n",
        "# eq = X**2-4\n",
        "eq = x**3 - 2*x**2 - 5*x + 6\n",
        "\n",
        "sympy.factor(eq)"
      ],
      "metadata": {
        "id": "MlmYTqjpzlGM",
        "outputId": "1a956be6-7066-4fd5-976b-75e476fd384f",
        "colab": {
          "base_uri": "https://localhost:8080/",
          "height": 38
        }
      },
      "execution_count": 6,
      "outputs": [
        {
          "output_type": "execute_result",
          "data": {
            "text/plain": [
              "(x - 3)*(x - 1)*(x + 2)"
            ],
            "text/latex": "$\\displaystyle \\left(x - 3\\right) \\left(x - 1\\right) \\left(x + 2\\right)$"
          },
          "metadata": {},
          "execution_count": 6
        }
      ]
    }
  ]
}